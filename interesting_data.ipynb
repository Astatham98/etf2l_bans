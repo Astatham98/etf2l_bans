{
 "cells": [
  {
   "cell_type": "code",
   "execution_count": 2,
   "metadata": {},
   "outputs": [
    {
     "ename": "ModuleNotFoundError",
     "evalue": "No module named 'pandas'",
     "output_type": "error",
     "traceback": [
      "\u001b[1;31m---------------------------------------------------------------------------\u001b[0m",
      "\u001b[1;31mModuleNotFoundError\u001b[0m                       Traceback (most recent call last)",
      "\u001b[1;32m<ipython-input-2-2c465f624e56>\u001b[0m in \u001b[0;36m<module>\u001b[1;34m\u001b[0m\n\u001b[1;32m----> 1\u001b[1;33m \u001b[1;32mimport\u001b[0m \u001b[0mpandas\u001b[0m \u001b[1;32mas\u001b[0m \u001b[0mpd\u001b[0m\u001b[1;33m\u001b[0m\u001b[1;33m\u001b[0m\u001b[0m\n\u001b[0m\u001b[0;32m      2\u001b[0m \u001b[1;33m\u001b[0m\u001b[0m\n\u001b[0;32m      3\u001b[0m \u001b[0mdf\u001b[0m \u001b[1;33m=\u001b[0m \u001b[0mpd\u001b[0m\u001b[1;33m.\u001b[0m\u001b[0mread_csv\u001b[0m\u001b[1;33m(\u001b[0m\u001b[1;34m'output110724.csv'\u001b[0m\u001b[1;33m)\u001b[0m\u001b[1;33m\u001b[0m\u001b[1;33m\u001b[0m\u001b[0m\n\u001b[0;32m      4\u001b[0m \u001b[0mcountry_bans_df\u001b[0m \u001b[1;33m=\u001b[0m \u001b[0mdf\u001b[0m\u001b[1;33m[\u001b[0m\u001b[1;34m'Country'\u001b[0m\u001b[1;33m]\u001b[0m\u001b[1;33m.\u001b[0m\u001b[0mvalue_counts\u001b[0m\u001b[1;33m(\u001b[0m\u001b[1;33m)\u001b[0m\u001b[1;33m\u001b[0m\u001b[1;33m\u001b[0m\u001b[0m\n\u001b[0;32m      5\u001b[0m \u001b[1;33m\u001b[0m\u001b[0m\n",
      "\u001b[1;31mModuleNotFoundError\u001b[0m: No module named 'pandas'"
     ]
    }
   ],
   "source": [
    "import pandas as pd\n",
    "\n",
    "df = pd.read_csv('output110724.csv')\n",
    "country_bans_df = df['Country'].value_counts()\n",
    "\n",
    "country_bans_df.head(10)"
   ]
  },
  {
   "cell_type": "code",
   "execution_count": 30,
   "metadata": {},
   "outputs": [
    {
     "data": {
      "text/plain": [
       "International    125\n",
       "Russia           112\n",
       "England           44\n",
       "Poland            42\n",
       "UnitedKingdom     42\n",
       "France            36\n",
       "European          31\n",
       "Turkey            29\n",
       "Germany           28\n",
       "Finland           28\n",
       "Name: Country, dtype: int64"
      ]
     },
     "execution_count": 30,
     "metadata": {},
     "output_type": "execute_result"
    }
   ],
   "source": [
    "df['Reason'] = df['Reason'].map(str.lower)\n",
    "without_vac_df = df[df[\"Reason\"].str.contains(\"vac\") == False]\n",
    "country_bans_no_vac_df = without_vac_df['Country'].value_counts()\n",
    "\n",
    "country_bans_no_vac_df.head(10)"
   ]
  },
  {
   "cell_type": "code",
   "execution_count": 34,
   "metadata": {},
   "outputs": [
    {
     "data": {
      "text/plain": [
       "vac                                         1815\n",
       "vac ban                                      185\n",
       "blacklisted                                  131\n",
       "cheating                                      53\n",
       "aimbot                                        49\n",
       "vac banned                                    44\n",
       "failure to provide 2 demo requests.           42\n",
       "second failure to upload demos                27\n",
       "triggerbot                                    23\n",
       "racism                                        22\n",
       "non-tf2 vac                                   18\n",
       "multihack                                     16\n",
       "failure to provide 2 demo requests            15\n",
       "harassment                                    14\n",
       "intentionally adding a banned player to       14\n",
       "failure to provide 3 demo requests.           11\n",
       "alt of frozzzen                               10\n",
       "esp                                           10\n",
       "assisting in ban evasion                      10\n",
       "esp, aimbot                                    9\n",
       "Name: Reason, dtype: int64"
      ]
     },
     "execution_count": 34,
     "metadata": {},
     "output_type": "execute_result"
    }
   ],
   "source": [
    "top_reason_df = df['Reason'].value_counts()\n",
    "top_reason_df.to_csv('ban_reasons.csv')\n",
    "top_reason_df.head(20)"
   ]
  },
  {
   "cell_type": "code",
   "execution_count": 35,
   "metadata": {},
   "outputs": [
    {
     "data": {
      "text/plain": [
       "blacklisted                                 131\n",
       "cheating                                     53\n",
       "aimbot                                       49\n",
       "failure to provide 2 demo requests.          42\n",
       "second failure to upload demos               27\n",
       "triggerbot                                   23\n",
       "racism                                       22\n",
       "multihack                                    16\n",
       "failure to provide 2 demo requests           15\n",
       "harassment                                   14\n",
       "intentionally adding a banned player to      14\n",
       "failure to provide 3 demo requests.          11\n",
       "alt of frozzzen                              10\n",
       "esp                                          10\n",
       "assisting in ban evasion                     10\n",
       "knowingly playing with alt                    9\n",
       "esp, aimbot                                   9\n",
       "wallhack                                      8\n",
       "match disruption                              8\n",
       "ban evasion                                   8\n",
       "Name: Reason, dtype: int64"
      ]
     },
     "execution_count": 35,
     "metadata": {},
     "output_type": "execute_result"
    },
    {
     "ename": "",
     "evalue": "",
     "output_type": "error",
     "traceback": [
      "\u001b[1;31mThe Kernel crashed while executing code in the the current cell or a previous cell. Please review the code in the cell(s) to identify a possible cause of the failure. Click <a href='https://aka.ms/vscodeJupyterKernelCrash'>here</a> for more info. View Jupyter <a href='command:jupyter.viewOutput'>log</a> for further details."
     ]
    }
   ],
   "source": [
    "top_reasons_no_vac = without_vac_df['Reason'].value_counts()\n",
    "top_reasons_no_vac.to_csv('ban_reasons_no_vac.csv')\n",
    "top_reasons_no_vac.head(20)"
   ]
  },
  {
   "cell_type": "code",
   "execution_count": null,
   "metadata": {},
   "outputs": [],
   "source": [
    "players_banned_df = df['Name'].value_counts()"
   ]
  },
  {
   "cell_type": "code",
   "execution_count": null,
   "metadata": {},
   "outputs": [],
   "source": []
  },
  {
   "cell_type": "code",
   "execution_count": null,
   "metadata": {},
   "outputs": [],
   "source": []
  }
 ],
 "metadata": {
  "kernelspec": {
   "display_name": "tfodj",
   "language": "python",
   "name": "tfodj"
  },
  "language_info": {
   "codemirror_mode": {
    "name": "ipython",
    "version": 3
   },
   "file_extension": ".py",
   "mimetype": "text/x-python",
   "name": "python",
   "nbconvert_exporter": "python",
   "pygments_lexer": "ipython3",
   "version": "3.9.13"
  },
  "orig_nbformat": 4,
  "vscode": {
   "interpreter": {
    "hash": "cfdcea08664fe218c55e10597a29a394355427f6778349fade896c86f1611f4f"
   }
  }
 },
 "nbformat": 4,
 "nbformat_minor": 2
}
