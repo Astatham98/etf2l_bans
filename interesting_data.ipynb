{
 "cells": [
  {
   "cell_type": "code",
   "execution_count": 23,
   "metadata": {},
   "outputs": [
    {
     "data": {
      "text/plain": [
       "International    1423\n",
       "Russia            260\n",
       "Poland             97\n",
       "UnitedKingdom      88\n",
       "France             77\n",
       "Germany            66\n",
       "England            59\n",
       "European           59\n",
       "UnitedStates       57\n",
       "Turkey             55\n",
       "Name: Country, dtype: int64"
      ]
     },
     "execution_count": 23,
     "metadata": {},
     "output_type": "execute_result"
    }
   ],
   "source": [
    "import pandas as pd\n",
    "\n",
    "df = pd.read_csv('output.csv')\n",
    "country_bans_df = df['Country'].value_counts()\n",
    "\n",
    "country_bans_df.head(10)"
   ]
  },
  {
   "cell_type": "code",
   "execution_count": 30,
   "metadata": {},
   "outputs": [
    {
     "data": {
      "text/plain": [
       "International    125\n",
       "Russia           112\n",
       "England           44\n",
       "Poland            42\n",
       "UnitedKingdom     42\n",
       "France            36\n",
       "European          31\n",
       "Turkey            29\n",
       "Germany           28\n",
       "Finland           28\n",
       "Name: Country, dtype: int64"
      ]
     },
     "execution_count": 30,
     "metadata": {},
     "output_type": "execute_result"
    }
   ],
   "source": [
    "df['Reason'] = df['Reason'].map(str.lower)\n",
    "without_vac_df = df[df[\"Reason\"].str.contains(\"vac\") == False]\n",
    "country_bans_no_vac_df = without_vac_df['Country'].value_counts()\n",
    "\n",
    "country_bans_no_vac_df.head(10)"
   ]
  },
  {
   "cell_type": "code",
   "execution_count": 34,
   "metadata": {},
   "outputs": [
    {
     "data": {
      "text/plain": [
       "vac                                         1815\n",
       "vac ban                                      185\n",
       "blacklisted                                  131\n",
       "cheating                                      53\n",
       "aimbot                                        49\n",
       "vac banned                                    44\n",
       "failure to provide 2 demo requests.           42\n",
       "second failure to upload demos                27\n",
       "triggerbot                                    23\n",
       "racism                                        22\n",
       "non-tf2 vac                                   18\n",
       "multihack                                     16\n",
       "failure to provide 2 demo requests            15\n",
       "harassment                                    14\n",
       "intentionally adding a banned player to       14\n",
       "failure to provide 3 demo requests.           11\n",
       "alt of frozzzen                               10\n",
       "esp                                           10\n",
       "assisting in ban evasion                      10\n",
       "esp, aimbot                                    9\n",
       "Name: Reason, dtype: int64"
      ]
     },
     "execution_count": 34,
     "metadata": {},
     "output_type": "execute_result"
    }
   ],
   "source": [
    "top_reason_df = df['Reason'].value_counts()\n",
    "top_reason_df.to_csv('ban_reasons.csv')\n",
    "top_reason_df.head(20)"
   ]
  },
  {
   "cell_type": "code",
   "execution_count": 35,
   "metadata": {},
   "outputs": [
    {
     "data": {
      "text/plain": [
       "blacklisted                                 131\n",
       "cheating                                     53\n",
       "aimbot                                       49\n",
       "failure to provide 2 demo requests.          42\n",
       "second failure to upload demos               27\n",
       "triggerbot                                   23\n",
       "racism                                       22\n",
       "multihack                                    16\n",
       "failure to provide 2 demo requests           15\n",
       "harassment                                   14\n",
       "intentionally adding a banned player to      14\n",
       "failure to provide 3 demo requests.          11\n",
       "alt of frozzzen                              10\n",
       "esp                                          10\n",
       "assisting in ban evasion                     10\n",
       "knowingly playing with alt                    9\n",
       "esp, aimbot                                   9\n",
       "wallhack                                      8\n",
       "match disruption                              8\n",
       "ban evasion                                   8\n",
       "Name: Reason, dtype: int64"
      ]
     },
     "execution_count": 35,
     "metadata": {},
     "output_type": "execute_result"
    }
   ],
   "source": [
    "top_reasons_no_vac = without_vac_df['Reason'].value_counts()\n",
    "top_reasons_no_vac.to_csv('ban_reasons_no_vac.csv')\n",
    "top_reasons_no_vac.head(20)"
   ]
  },
  {
   "cell_type": "code",
   "execution_count": null,
   "metadata": {},
   "outputs": [],
   "source": []
  },
  {
   "cell_type": "code",
   "execution_count": null,
   "metadata": {},
   "outputs": [],
   "source": []
  },
  {
   "cell_type": "code",
   "execution_count": null,
   "metadata": {},
   "outputs": [],
   "source": []
  }
 ],
 "metadata": {
  "kernelspec": {
   "display_name": "Python 3",
   "language": "python",
   "name": "python3"
  },
  "language_info": {
   "codemirror_mode": {
    "name": "ipython",
    "version": 3
   },
   "file_extension": ".py",
   "mimetype": "text/x-python",
   "name": "python",
   "nbconvert_exporter": "python",
   "pygments_lexer": "ipython3",
   "version": "3.9.13"
  },
  "orig_nbformat": 4,
  "vscode": {
   "interpreter": {
    "hash": "cfdcea08664fe218c55e10597a29a394355427f6778349fade896c86f1611f4f"
   }
  }
 },
 "nbformat": 4,
 "nbformat_minor": 2
}
